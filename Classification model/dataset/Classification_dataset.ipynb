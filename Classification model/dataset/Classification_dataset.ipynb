{
 "cells": [
  {
   "cell_type": "code",
   "execution_count": 8,
   "id": "f76d0080-b20e-42db-9676-6db34ba2f813",
   "metadata": {},
   "outputs": [
    {
     "name": "stdout",
     "output_type": "stream",
     "text": [
      "Collecting ultralytics\n",
      "  Downloading ultralytics-8.3.62-py3-none-any.whl.metadata (35 kB)\n",
      "Requirement already satisfied: numpy>=1.23.0 in c:\\users\\ap071\\anaconda3\\lib\\site-packages (from ultralytics) (1.26.4)\n",
      "Requirement already satisfied: matplotlib>=3.3.0 in c:\\users\\ap071\\anaconda3\\lib\\site-packages (from ultralytics) (3.9.2)\n",
      "Collecting opencv-python>=4.6.0 (from ultralytics)\n",
      "  Downloading opencv_python-4.11.0.86-cp37-abi3-win_amd64.whl.metadata (20 kB)\n",
      "Requirement already satisfied: pillow>=7.1.2 in c:\\users\\ap071\\anaconda3\\lib\\site-packages (from ultralytics) (10.4.0)\n",
      "Requirement already satisfied: pyyaml>=5.3.1 in c:\\users\\ap071\\anaconda3\\lib\\site-packages (from ultralytics) (6.0.1)\n",
      "Requirement already satisfied: requests>=2.23.0 in c:\\users\\ap071\\anaconda3\\lib\\site-packages (from ultralytics) (2.32.3)\n",
      "Requirement already satisfied: scipy>=1.4.1 in c:\\users\\ap071\\anaconda3\\lib\\site-packages (from ultralytics) (1.13.1)\n",
      "Collecting torch>=1.8.0 (from ultralytics)\n",
      "  Downloading torch-2.5.1-cp312-cp312-win_amd64.whl.metadata (28 kB)\n",
      "Collecting torchvision>=0.9.0 (from ultralytics)\n",
      "  Downloading torchvision-0.20.1-cp312-cp312-win_amd64.whl.metadata (6.2 kB)\n",
      "Requirement already satisfied: tqdm>=4.64.0 in c:\\users\\ap071\\anaconda3\\lib\\site-packages (from ultralytics) (4.66.5)\n",
      "Requirement already satisfied: psutil in c:\\users\\ap071\\anaconda3\\lib\\site-packages (from ultralytics) (5.9.0)\n",
      "Requirement already satisfied: py-cpuinfo in c:\\users\\ap071\\anaconda3\\lib\\site-packages (from ultralytics) (9.0.0)\n",
      "Requirement already satisfied: pandas>=1.1.4 in c:\\users\\ap071\\anaconda3\\lib\\site-packages (from ultralytics) (2.2.2)\n",
      "Requirement already satisfied: seaborn>=0.11.0 in c:\\users\\ap071\\anaconda3\\lib\\site-packages (from ultralytics) (0.13.2)\n",
      "Collecting ultralytics-thop>=2.0.0 (from ultralytics)\n",
      "  Downloading ultralytics_thop-2.0.14-py3-none-any.whl.metadata (9.4 kB)\n",
      "Requirement already satisfied: contourpy>=1.0.1 in c:\\users\\ap071\\anaconda3\\lib\\site-packages (from matplotlib>=3.3.0->ultralytics) (1.2.0)\n",
      "Requirement already satisfied: cycler>=0.10 in c:\\users\\ap071\\anaconda3\\lib\\site-packages (from matplotlib>=3.3.0->ultralytics) (0.11.0)\n",
      "Requirement already satisfied: fonttools>=4.22.0 in c:\\users\\ap071\\anaconda3\\lib\\site-packages (from matplotlib>=3.3.0->ultralytics) (4.51.0)\n",
      "Requirement already satisfied: kiwisolver>=1.3.1 in c:\\users\\ap071\\anaconda3\\lib\\site-packages (from matplotlib>=3.3.0->ultralytics) (1.4.4)\n",
      "Requirement already satisfied: packaging>=20.0 in c:\\users\\ap071\\anaconda3\\lib\\site-packages (from matplotlib>=3.3.0->ultralytics) (24.1)\n",
      "Requirement already satisfied: pyparsing>=2.3.1 in c:\\users\\ap071\\anaconda3\\lib\\site-packages (from matplotlib>=3.3.0->ultralytics) (3.1.2)\n",
      "Requirement already satisfied: python-dateutil>=2.7 in c:\\users\\ap071\\anaconda3\\lib\\site-packages (from matplotlib>=3.3.0->ultralytics) (2.9.0.post0)\n",
      "Requirement already satisfied: pytz>=2020.1 in c:\\users\\ap071\\anaconda3\\lib\\site-packages (from pandas>=1.1.4->ultralytics) (2024.1)\n",
      "Requirement already satisfied: tzdata>=2022.7 in c:\\users\\ap071\\anaconda3\\lib\\site-packages (from pandas>=1.1.4->ultralytics) (2023.3)\n",
      "Requirement already satisfied: charset-normalizer<4,>=2 in c:\\users\\ap071\\anaconda3\\lib\\site-packages (from requests>=2.23.0->ultralytics) (3.3.2)\n",
      "Requirement already satisfied: idna<4,>=2.5 in c:\\users\\ap071\\anaconda3\\lib\\site-packages (from requests>=2.23.0->ultralytics) (3.7)\n",
      "Requirement already satisfied: urllib3<3,>=1.21.1 in c:\\users\\ap071\\anaconda3\\lib\\site-packages (from requests>=2.23.0->ultralytics) (2.2.3)\n",
      "Requirement already satisfied: certifi>=2017.4.17 in c:\\users\\ap071\\anaconda3\\lib\\site-packages (from requests>=2.23.0->ultralytics) (2024.12.14)\n",
      "Requirement already satisfied: filelock in c:\\users\\ap071\\anaconda3\\lib\\site-packages (from torch>=1.8.0->ultralytics) (3.13.1)\n",
      "Requirement already satisfied: typing-extensions>=4.8.0 in c:\\users\\ap071\\anaconda3\\lib\\site-packages (from torch>=1.8.0->ultralytics) (4.11.0)\n",
      "Requirement already satisfied: networkx in c:\\users\\ap071\\anaconda3\\lib\\site-packages (from torch>=1.8.0->ultralytics) (3.3)\n",
      "Requirement already satisfied: jinja2 in c:\\users\\ap071\\anaconda3\\lib\\site-packages (from torch>=1.8.0->ultralytics) (3.1.4)\n",
      "Requirement already satisfied: fsspec in c:\\users\\ap071\\anaconda3\\lib\\site-packages (from torch>=1.8.0->ultralytics) (2024.6.1)\n",
      "Requirement already satisfied: setuptools in c:\\users\\ap071\\anaconda3\\lib\\site-packages (from torch>=1.8.0->ultralytics) (75.1.0)\n",
      "Collecting sympy==1.13.1 (from torch>=1.8.0->ultralytics)\n",
      "  Using cached sympy-1.13.1-py3-none-any.whl.metadata (12 kB)\n",
      "Requirement already satisfied: mpmath<1.4,>=1.1.0 in c:\\users\\ap071\\anaconda3\\lib\\site-packages (from sympy==1.13.1->torch>=1.8.0->ultralytics) (1.3.0)\n",
      "Requirement already satisfied: colorama in c:\\users\\ap071\\anaconda3\\lib\\site-packages (from tqdm>=4.64.0->ultralytics) (0.4.6)\n",
      "Requirement already satisfied: six>=1.5 in c:\\users\\ap071\\anaconda3\\lib\\site-packages (from python-dateutil>=2.7->matplotlib>=3.3.0->ultralytics) (1.16.0)\n",
      "Requirement already satisfied: MarkupSafe>=2.0 in c:\\users\\ap071\\anaconda3\\lib\\site-packages (from jinja2->torch>=1.8.0->ultralytics) (2.1.3)\n",
      "Downloading ultralytics-8.3.62-py3-none-any.whl (910 kB)\n",
      "   ---------------------------------------- 0.0/910.1 kB ? eta -:--:--\n",
      "   ---------------------------------- ----- 786.4/910.1 kB 4.2 MB/s eta 0:00:01\n",
      "   ---------------------------------------- 910.1/910.1 kB 3.8 MB/s eta 0:00:00\n",
      "Downloading opencv_python-4.11.0.86-cp37-abi3-win_amd64.whl (39.5 MB)\n",
      "   ---------------------------------------- 0.0/39.5 MB ? eta -:--:--\n",
      "    --------------------------------------- 0.8/39.5 MB 4.2 MB/s eta 0:00:10\n",
      "   - -------------------------------------- 1.8/39.5 MB 4.8 MB/s eta 0:00:08\n",
      "   -- ------------------------------------- 2.1/39.5 MB 4.2 MB/s eta 0:00:09\n",
      "   -- ------------------------------------- 2.1/39.5 MB 4.2 MB/s eta 0:00:09\n",
      "   -- ------------------------------------- 2.9/39.5 MB 2.7 MB/s eta 0:00:14\n",
      "   ---- ----------------------------------- 4.2/39.5 MB 3.3 MB/s eta 0:00:11\n",
      "   ---- ----------------------------------- 4.2/39.5 MB 3.3 MB/s eta 0:00:11\n",
      "   ---- ----------------------------------- 4.7/39.5 MB 2.9 MB/s eta 0:00:13\n",
      "   ------ --------------------------------- 6.3/39.5 MB 3.4 MB/s eta 0:00:10\n",
      "   ------- -------------------------------- 7.9/39.5 MB 3.7 MB/s eta 0:00:09\n",
      "   --------- ------------------------------ 8.9/39.5 MB 4.0 MB/s eta 0:00:08\n",
      "   --------- ------------------------------ 9.7/39.5 MB 3.8 MB/s eta 0:00:08\n",
      "   ---------- ----------------------------- 10.7/39.5 MB 4.0 MB/s eta 0:00:08\n",
      "   ------------ --------------------------- 12.1/39.5 MB 4.2 MB/s eta 0:00:07\n",
      "   -------------- ------------------------- 13.9/39.5 MB 4.4 MB/s eta 0:00:06\n",
      "   -------------- ------------------------- 13.9/39.5 MB 4.4 MB/s eta 0:00:06\n",
      "   -------------- ------------------------- 14.7/39.5 MB 4.2 MB/s eta 0:00:06\n",
      "   ---------------- ----------------------- 16.3/39.5 MB 4.3 MB/s eta 0:00:06\n",
      "   ------------------ --------------------- 17.8/39.5 MB 4.5 MB/s eta 0:00:05\n",
      "   ------------------- -------------------- 19.4/39.5 MB 4.7 MB/s eta 0:00:05\n",
      "   --------------------- ------------------ 21.0/39.5 MB 4.8 MB/s eta 0:00:04\n",
      "   ---------------------- ----------------- 22.5/39.5 MB 4.9 MB/s eta 0:00:04\n",
      "   ------------------------ --------------- 24.1/39.5 MB 5.1 MB/s eta 0:00:04\n",
      "   -------------------------- ------------- 25.7/39.5 MB 5.1 MB/s eta 0:00:03\n",
      "   --------------------------- ------------ 26.7/39.5 MB 5.2 MB/s eta 0:00:03\n",
      "   --------------------------- ------------ 26.7/39.5 MB 5.2 MB/s eta 0:00:03\n",
      "   --------------------------- ------------ 27.0/39.5 MB 4.9 MB/s eta 0:00:03\n",
      "   --------------------------- ------------ 27.0/39.5 MB 4.9 MB/s eta 0:00:03\n",
      "   --------------------------- ------------ 27.3/39.5 MB 4.6 MB/s eta 0:00:03\n",
      "   --------------------------- ------------ 27.3/39.5 MB 4.6 MB/s eta 0:00:03\n",
      "   ---------------------------- ----------- 28.6/39.5 MB 4.4 MB/s eta 0:00:03\n",
      "   ------------------------------ --------- 29.9/39.5 MB 4.5 MB/s eta 0:00:03\n",
      "   ------------------------------- -------- 31.2/39.5 MB 4.5 MB/s eta 0:00:02\n",
      "   -------------------------------- ------- 31.7/39.5 MB 4.5 MB/s eta 0:00:02\n",
      "   --------------------------------- ------ 33.3/39.5 MB 4.5 MB/s eta 0:00:02\n",
      "   ---------------------------------- ----- 34.3/39.5 MB 4.6 MB/s eta 0:00:02\n",
      "   ----------------------------------- ---- 35.1/39.5 MB 4.6 MB/s eta 0:00:01\n",
      "   ------------------------------------- -- 36.7/39.5 MB 4.6 MB/s eta 0:00:01\n",
      "   ------------------------------------- -- 36.7/39.5 MB 4.6 MB/s eta 0:00:01\n",
      "   -------------------------------------- - 38.3/39.5 MB 4.6 MB/s eta 0:00:01\n",
      "   ---------------------------------------  39.3/39.5 MB 4.6 MB/s eta 0:00:01\n",
      "   ---------------------------------------- 39.5/39.5 MB 4.6 MB/s eta 0:00:00\n",
      "Downloading torch-2.5.1-cp312-cp312-win_amd64.whl (203.0 MB)\n",
      "   ---------------------------------------- 0.0/203.0 MB ? eta -:--:--\n",
      "   ---------------------------------------- 1.6/203.0 MB 7.0 MB/s eta 0:00:29\n",
      "    --------------------------------------- 2.9/203.0 MB 6.7 MB/s eta 0:00:30\n",
      "    --------------------------------------- 4.5/203.0 MB 7.3 MB/s eta 0:00:28\n",
      "   - -------------------------------------- 5.8/203.0 MB 7.2 MB/s eta 0:00:28\n",
      "   - -------------------------------------- 7.3/203.0 MB 7.2 MB/s eta 0:00:28\n",
      "   - -------------------------------------- 7.9/203.0 MB 6.7 MB/s eta 0:00:30\n",
      "   - -------------------------------------- 7.9/203.0 MB 6.7 MB/s eta 0:00:30\n",
      "   - -------------------------------------- 7.9/203.0 MB 6.7 MB/s eta 0:00:30\n",
      "   - -------------------------------------- 8.4/203.0 MB 4.4 MB/s eta 0:00:45\n",
      "   - -------------------------------------- 9.7/203.0 MB 4.8 MB/s eta 0:00:41\n",
      "   -- ------------------------------------- 10.7/203.0 MB 4.7 MB/s eta 0:00:41\n",
      "   -- ------------------------------------- 12.3/203.0 MB 4.9 MB/s eta 0:00:39\n",
      "   -- ------------------------------------- 13.9/203.0 MB 5.1 MB/s eta 0:00:38\n",
      "   -- ------------------------------------- 15.2/203.0 MB 5.2 MB/s eta 0:00:37\n",
      "   --- ------------------------------------ 16.5/203.0 MB 5.3 MB/s eta 0:00:36\n",
      "   --- ------------------------------------ 17.3/203.0 MB 5.3 MB/s eta 0:00:35\n",
      "   --- ------------------------------------ 18.9/203.0 MB 5.3 MB/s eta 0:00:35\n",
      "   --- ------------------------------------ 20.2/203.0 MB 5.3 MB/s eta 0:00:35\n",
      "   ---- ----------------------------------- 21.8/203.0 MB 5.5 MB/s eta 0:00:34\n",
      "   ---- ----------------------------------- 23.1/203.0 MB 5.6 MB/s eta 0:00:33\n",
      "   ---- ----------------------------------- 24.6/203.0 MB 5.6 MB/s eta 0:00:32\n",
      "   ----- ---------------------------------- 26.0/203.0 MB 5.7 MB/s eta 0:00:32\n",
      "   ----- ---------------------------------- 27.5/203.0 MB 5.8 MB/s eta 0:00:31\n",
      "   ----- ---------------------------------- 28.8/203.0 MB 5.8 MB/s eta 0:00:31\n",
      "   ----- ---------------------------------- 29.6/203.0 MB 5.8 MB/s eta 0:00:30\n",
      "   ----- ---------------------------------- 29.9/203.0 MB 5.6 MB/s eta 0:00:31\n",
      "   ----- ---------------------------------- 29.9/203.0 MB 5.6 MB/s eta 0:00:31\n",
      "   ----- ---------------------------------- 30.1/203.0 MB 5.3 MB/s eta 0:00:33\n",
      "   ------ --------------------------------- 31.7/203.0 MB 5.2 MB/s eta 0:00:33\n",
      "   ------ --------------------------------- 33.0/203.0 MB 5.3 MB/s eta 0:00:33\n",
      "   ------ --------------------------------- 34.3/203.0 MB 5.3 MB/s eta 0:00:32\n",
      "   ------- -------------------------------- 35.9/203.0 MB 5.4 MB/s eta 0:00:32\n",
      "   ------- -------------------------------- 37.0/203.0 MB 5.4 MB/s eta 0:00:31\n",
      "   ------- -------------------------------- 37.7/203.0 MB 5.4 MB/s eta 0:00:31\n",
      "   ------- -------------------------------- 37.7/203.0 MB 5.4 MB/s eta 0:00:31\n",
      "   ------- -------------------------------- 39.8/203.0 MB 5.3 MB/s eta 0:00:31\n",
      "   -------- ------------------------------- 40.9/203.0 MB 5.3 MB/s eta 0:00:31\n",
      "   -------- ------------------------------- 42.5/203.0 MB 5.3 MB/s eta 0:00:31\n",
      "   -------- ------------------------------- 42.7/203.0 MB 5.2 MB/s eta 0:00:31\n",
      "   -------- ------------------------------- 42.7/203.0 MB 5.2 MB/s eta 0:00:31\n",
      "   -------- ------------------------------- 44.3/203.0 MB 5.2 MB/s eta 0:00:31\n",
      "   -------- ------------------------------- 45.6/203.0 MB 5.2 MB/s eta 0:00:31\n",
      "   --------- ------------------------------ 46.7/203.0 MB 5.2 MB/s eta 0:00:30\n",
      "   --------- ------------------------------ 46.9/203.0 MB 5.1 MB/s eta 0:00:31\n",
      "   --------- ------------------------------ 48.2/203.0 MB 5.1 MB/s eta 0:00:31\n",
      "   --------- ------------------------------ 49.8/203.0 MB 5.2 MB/s eta 0:00:30\n",
      "   ---------- ----------------------------- 51.6/203.0 MB 5.2 MB/s eta 0:00:29\n",
      "   ---------- ----------------------------- 53.2/203.0 MB 5.3 MB/s eta 0:00:29\n",
      "   ---------- ----------------------------- 54.8/203.0 MB 5.3 MB/s eta 0:00:28\n",
      "   ----------- ---------------------------- 56.4/203.0 MB 5.4 MB/s eta 0:00:28\n",
      "   ----------- ---------------------------- 57.9/203.0 MB 5.4 MB/s eta 0:00:27\n",
      "   ----------- ---------------------------- 59.2/203.0 MB 5.4 MB/s eta 0:00:27\n",
      "   ----------- ---------------------------- 59.5/203.0 MB 5.5 MB/s eta 0:00:27\n",
      "   ----------- ---------------------------- 59.8/203.0 MB 5.4 MB/s eta 0:00:27\n",
      "   ----------- ---------------------------- 60.8/203.0 MB 5.3 MB/s eta 0:00:27\n",
      "   ------------ --------------------------- 62.1/203.0 MB 5.3 MB/s eta 0:00:27\n",
      "   ------------ --------------------------- 63.2/203.0 MB 5.3 MB/s eta 0:00:27\n",
      "   ------------ --------------------------- 63.4/203.0 MB 5.3 MB/s eta 0:00:27\n",
      "   ------------ --------------------------- 64.7/203.0 MB 5.3 MB/s eta 0:00:27\n",
      "   ------------- -------------------------- 66.1/203.0 MB 5.3 MB/s eta 0:00:26\n",
      "   ------------- -------------------------- 67.4/203.0 MB 5.3 MB/s eta 0:00:26\n",
      "   ------------- -------------------------- 68.2/203.0 MB 5.3 MB/s eta 0:00:26\n",
      "   ------------- -------------------------- 68.2/203.0 MB 5.3 MB/s eta 0:00:26\n",
      "   ------------- -------------------------- 69.7/203.0 MB 5.2 MB/s eta 0:00:26\n",
      "   ------------- -------------------------- 70.5/203.0 MB 5.2 MB/s eta 0:00:26\n",
      "   ------------- -------------------------- 70.8/203.0 MB 5.2 MB/s eta 0:00:26\n",
      "   -------------- ------------------------- 71.8/203.0 MB 5.1 MB/s eta 0:00:26\n",
      "   -------------- ------------------------- 72.4/203.0 MB 5.1 MB/s eta 0:00:26\n",
      "   -------------- ------------------------- 72.4/203.0 MB 5.1 MB/s eta 0:00:26\n",
      "   -------------- ------------------------- 73.1/203.0 MB 5.0 MB/s eta 0:00:27\n",
      "   -------------- ------------------------- 74.4/203.0 MB 5.0 MB/s eta 0:00:26\n",
      "   -------------- ------------------------- 75.8/203.0 MB 5.0 MB/s eta 0:00:26\n",
      "   -------------- ------------------------- 76.0/203.0 MB 5.0 MB/s eta 0:00:26\n",
      "   --------------- ------------------------ 76.3/203.0 MB 4.9 MB/s eta 0:00:26\n",
      "   --------------- ------------------------ 77.1/203.0 MB 4.9 MB/s eta 0:00:26\n",
      "   --------------- ------------------------ 77.6/203.0 MB 4.9 MB/s eta 0:00:26\n",
      "   --------------- ------------------------ 78.9/203.0 MB 4.9 MB/s eta 0:00:26\n",
      "   --------------- ------------------------ 80.5/203.0 MB 4.9 MB/s eta 0:00:25\n",
      "   ---------------- ----------------------- 81.5/203.0 MB 4.9 MB/s eta 0:00:25\n",
      "   ---------------- ----------------------- 82.6/203.0 MB 4.9 MB/s eta 0:00:25\n",
      "   ---------------- ----------------------- 83.6/203.0 MB 4.9 MB/s eta 0:00:25\n",
      "   ---------------- ----------------------- 84.4/203.0 MB 4.9 MB/s eta 0:00:25\n",
      "   ---------------- ----------------------- 84.9/203.0 MB 4.9 MB/s eta 0:00:25\n",
      "   ---------------- ----------------------- 86.2/203.0 MB 4.9 MB/s eta 0:00:24\n",
      "   ----------------- ---------------------- 87.0/203.0 MB 4.9 MB/s eta 0:00:24\n",
      "   ----------------- ---------------------- 88.1/203.0 MB 4.9 MB/s eta 0:00:24\n",
      "   ----------------- ---------------------- 89.4/203.0 MB 4.9 MB/s eta 0:00:24\n",
      "   ----------------- ---------------------- 90.4/203.0 MB 4.9 MB/s eta 0:00:24\n",
      "   ------------------ --------------------- 91.5/203.0 MB 4.9 MB/s eta 0:00:23\n",
      "   ------------------ --------------------- 92.3/203.0 MB 4.9 MB/s eta 0:00:23\n",
      "   ------------------ --------------------- 93.6/203.0 MB 4.9 MB/s eta 0:00:23\n",
      "   ------------------ --------------------- 94.9/203.0 MB 4.9 MB/s eta 0:00:22\n",
      "   ------------------ --------------------- 96.2/203.0 MB 4.9 MB/s eta 0:00:22\n",
      "   ------------------- -------------------- 97.5/203.0 MB 5.0 MB/s eta 0:00:22\n",
      "   ------------------- -------------------- 99.1/203.0 MB 5.0 MB/s eta 0:00:21\n",
      "   ------------------- -------------------- 99.4/203.0 MB 5.0 MB/s eta 0:00:21\n",
      "   ------------------- -------------------- 99.4/203.0 MB 5.0 MB/s eta 0:00:21\n",
      "   ------------------- -------------------- 99.6/203.0 MB 4.8 MB/s eta 0:00:22\n",
      "   ------------------- -------------------- 99.6/203.0 MB 4.8 MB/s eta 0:00:22\n",
      "   ------------------- -------------------- 99.6/203.0 MB 4.8 MB/s eta 0:00:22\n",
      "   ------------------- -------------------- 99.9/203.0 MB 4.7 MB/s eta 0:00:22\n",
      "   ------------------- -------------------- 99.9/203.0 MB 4.7 MB/s eta 0:00:22\n",
      "   ------------------- -------------------- 99.9/203.0 MB 4.7 MB/s eta 0:00:22\n",
      "   ------------------- -------------------- 100.7/203.0 MB 4.6 MB/s eta 0:00:23\n",
      "   -------------------- ------------------- 102.0/203.0 MB 4.6 MB/s eta 0:00:22\n",
      "   -------------------- ------------------- 102.8/203.0 MB 4.6 MB/s eta 0:00:22\n",
      "   -------------------- ------------------- 104.1/203.0 MB 4.6 MB/s eta 0:00:22\n",
      "   -------------------- ------------------- 105.4/203.0 MB 4.7 MB/s eta 0:00:21\n",
      "   --------------------- ------------------ 106.7/203.0 MB 4.7 MB/s eta 0:00:21\n",
      "   --------------------- ------------------ 108.3/203.0 MB 4.7 MB/s eta 0:00:21\n",
      "   --------------------- ------------------ 109.3/203.0 MB 4.7 MB/s eta 0:00:20\n",
      "   --------------------- ------------------ 109.8/203.0 MB 4.7 MB/s eta 0:00:20\n",
      "   --------------------- ------------------ 111.7/203.0 MB 4.7 MB/s eta 0:00:20\n",
      "   ---------------------- ----------------- 113.0/203.0 MB 4.7 MB/s eta 0:00:20\n",
      "   ---------------------- ----------------- 114.0/203.0 MB 4.7 MB/s eta 0:00:19\n",
      "   ---------------------- ----------------- 115.1/203.0 MB 4.7 MB/s eta 0:00:19\n",
      "   ---------------------- ----------------- 116.1/203.0 MB 4.7 MB/s eta 0:00:19\n",
      "   ----------------------- ---------------- 117.7/203.0 MB 4.8 MB/s eta 0:00:18\n",
      "   ----------------------- ---------------- 118.8/203.0 MB 4.8 MB/s eta 0:00:18\n",
      "   ----------------------- ---------------- 120.3/203.0 MB 4.8 MB/s eta 0:00:18\n",
      "   ----------------------- ---------------- 121.1/203.0 MB 4.8 MB/s eta 0:00:18\n",
      "   ------------------------ --------------- 122.2/203.0 MB 4.8 MB/s eta 0:00:17\n",
      "   ------------------------ --------------- 123.7/203.0 MB 4.8 MB/s eta 0:00:17\n",
      "   ------------------------ --------------- 125.0/203.0 MB 4.8 MB/s eta 0:00:17\n",
      "   ------------------------ --------------- 126.4/203.0 MB 4.8 MB/s eta 0:00:16\n",
      "   ------------------------- -------------- 127.7/203.0 MB 4.8 MB/s eta 0:00:16\n",
      "   ------------------------- -------------- 129.0/203.0 MB 4.8 MB/s eta 0:00:16\n",
      "   ------------------------- -------------- 130.5/203.0 MB 4.9 MB/s eta 0:00:15\n",
      "   ------------------------- -------------- 131.6/203.0 MB 4.9 MB/s eta 0:00:15\n",
      "   -------------------------- ------------- 132.9/203.0 MB 4.9 MB/s eta 0:00:15\n",
      "   -------------------------- ------------- 134.2/203.0 MB 4.9 MB/s eta 0:00:15\n",
      "   -------------------------- ------------- 135.3/203.0 MB 4.9 MB/s eta 0:00:14\n",
      "   -------------------------- ------------- 136.6/203.0 MB 4.9 MB/s eta 0:00:14\n",
      "   --------------------------- ------------ 138.1/203.0 MB 4.9 MB/s eta 0:00:14\n",
      "   --------------------------- ------------ 138.9/203.0 MB 4.9 MB/s eta 0:00:14\n",
      "   --------------------------- ------------ 140.8/203.0 MB 4.9 MB/s eta 0:00:13\n",
      "   --------------------------- ------------ 141.3/203.0 MB 4.9 MB/s eta 0:00:13\n",
      "   ---------------------------- ----------- 142.6/203.0 MB 4.9 MB/s eta 0:00:13\n",
      "   ---------------------------- ----------- 143.4/203.0 MB 4.9 MB/s eta 0:00:13\n",
      "   ---------------------------- ----------- 144.7/203.0 MB 4.9 MB/s eta 0:00:12\n",
      "   ---------------------------- ----------- 145.2/203.0 MB 4.9 MB/s eta 0:00:12\n",
      "   ---------------------------- ----------- 147.1/203.0 MB 4.9 MB/s eta 0:00:12\n",
      "   ----------------------------- ---------- 147.6/203.0 MB 4.9 MB/s eta 0:00:12\n",
      "   ----------------------------- ---------- 148.6/203.0 MB 4.9 MB/s eta 0:00:12\n",
      "   ----------------------------- ---------- 149.4/203.0 MB 4.9 MB/s eta 0:00:11\n",
      "   ----------------------------- ---------- 151.3/203.0 MB 4.9 MB/s eta 0:00:11\n",
      "   ------------------------------ --------- 152.3/203.0 MB 4.9 MB/s eta 0:00:11\n",
      "   ------------------------------ --------- 153.9/203.0 MB 4.9 MB/s eta 0:00:11\n",
      "   ------------------------------ --------- 154.9/203.0 MB 5.0 MB/s eta 0:00:10\n",
      "   ------------------------------ --------- 156.2/203.0 MB 5.0 MB/s eta 0:00:10\n",
      "   ------------------------------ --------- 157.3/203.0 MB 5.0 MB/s eta 0:00:10\n",
      "   ------------------------------- -------- 158.6/203.0 MB 5.0 MB/s eta 0:00:09\n",
      "   ------------------------------- -------- 159.4/203.0 MB 5.0 MB/s eta 0:00:09\n",
      "   ------------------------------- -------- 159.9/203.0 MB 5.0 MB/s eta 0:00:09\n",
      "   ------------------------------- -------- 159.9/203.0 MB 5.0 MB/s eta 0:00:09\n",
      "   ------------------------------- -------- 159.9/203.0 MB 5.0 MB/s eta 0:00:09\n",
      "   ------------------------------- -------- 159.9/203.0 MB 5.0 MB/s eta 0:00:09\n",
      "   ------------------------------- -------- 159.9/203.0 MB 5.0 MB/s eta 0:00:09\n",
      "   ------------------------------- -------- 159.9/203.0 MB 5.0 MB/s eta 0:00:09\n",
      "   ------------------------------- -------- 161.0/203.0 MB 4.7 MB/s eta 0:00:09\n",
      "   ------------------------------- -------- 161.2/203.0 MB 4.7 MB/s eta 0:00:09\n",
      "   ------------------------------- -------- 161.2/203.0 MB 4.7 MB/s eta 0:00:09\n",
      "   ------------------------------- -------- 161.2/203.0 MB 4.7 MB/s eta 0:00:09\n",
      "   ------------------------------- -------- 161.2/203.0 MB 4.7 MB/s eta 0:00:09\n",
      "   ------------------------------- -------- 161.2/203.0 MB 4.7 MB/s eta 0:00:09\n",
      "   ------------------------------- -------- 161.2/203.0 MB 4.7 MB/s eta 0:00:09\n",
      "   ------------------------------- -------- 162.0/203.0 MB 4.4 MB/s eta 0:00:10\n",
      "   ------------------------------- -------- 162.3/203.0 MB 4.4 MB/s eta 0:00:10\n",
      "   -------------------------------- ------- 163.1/203.0 MB 4.5 MB/s eta 0:00:09\n",
      "   -------------------------------- ------- 164.1/203.0 MB 4.5 MB/s eta 0:00:09\n",
      "   -------------------------------- ------- 164.1/203.0 MB 4.5 MB/s eta 0:00:09\n",
      "   -------------------------------- ------- 164.1/203.0 MB 4.5 MB/s eta 0:00:09\n",
      "   -------------------------------- ------- 164.1/203.0 MB 4.5 MB/s eta 0:00:09\n",
      "   -------------------------------- ------- 164.1/203.0 MB 4.5 MB/s eta 0:00:09\n",
      "   -------------------------------- ------- 164.1/203.0 MB 4.5 MB/s eta 0:00:09\n",
      "   -------------------------------- ------- 164.1/203.0 MB 4.5 MB/s eta 0:00:09\n",
      "   -------------------------------- ------- 164.6/203.0 MB 4.3 MB/s eta 0:00:10\n",
      "   -------------------------------- ------- 165.2/203.0 MB 4.2 MB/s eta 0:00:10\n",
      "   -------------------------------- ------- 165.9/203.0 MB 4.2 MB/s eta 0:00:09\n",
      "   -------------------------------- ------- 166.2/203.0 MB 4.2 MB/s eta 0:00:09\n",
      "   -------------------------------- ------- 166.2/203.0 MB 4.2 MB/s eta 0:00:09\n",
      "   -------------------------------- ------- 166.2/203.0 MB 4.2 MB/s eta 0:00:09\n",
      "   -------------------------------- ------- 167.0/203.0 MB 4.1 MB/s eta 0:00:09\n",
      "   -------------------------------- ------- 167.5/203.0 MB 4.1 MB/s eta 0:00:09\n",
      "   --------------------------------- ------ 168.0/203.0 MB 4.1 MB/s eta 0:00:09\n",
      "   --------------------------------- ------ 168.3/203.0 MB 4.1 MB/s eta 0:00:09\n",
      "   --------------------------------- ------ 169.3/203.0 MB 4.1 MB/s eta 0:00:09\n",
      "   --------------------------------- ------ 170.7/203.0 MB 4.0 MB/s eta 0:00:09\n",
      "   --------------------------------- ------ 172.0/203.0 MB 4.0 MB/s eta 0:00:08\n",
      "   ---------------------------------- ----- 173.0/203.0 MB 4.0 MB/s eta 0:00:08\n",
      "   ---------------------------------- ----- 174.6/203.0 MB 4.0 MB/s eta 0:00:08\n",
      "   ---------------------------------- ----- 175.6/203.0 MB 4.0 MB/s eta 0:00:07\n",
      "   ---------------------------------- ----- 176.7/203.0 MB 4.0 MB/s eta 0:00:07\n",
      "   ----------------------------------- ---- 177.7/203.0 MB 4.0 MB/s eta 0:00:07\n",
      "   ----------------------------------- ---- 179.0/203.0 MB 4.0 MB/s eta 0:00:07\n",
      "   ----------------------------------- ---- 179.8/203.0 MB 4.0 MB/s eta 0:00:06\n",
      "   ----------------------------------- ---- 180.1/203.0 MB 4.0 MB/s eta 0:00:06\n",
      "   ----------------------------------- ---- 180.4/203.0 MB 3.9 MB/s eta 0:00:06\n",
      "   ----------------------------------- ---- 181.7/203.0 MB 4.0 MB/s eta 0:00:06\n",
      "   ----------------------------------- ---- 182.7/203.0 MB 4.0 MB/s eta 0:00:06\n",
      "   ------------------------------------ --- 184.0/203.0 MB 4.0 MB/s eta 0:00:05\n",
      "   ------------------------------------ --- 185.1/203.0 MB 4.0 MB/s eta 0:00:05\n",
      "   ------------------------------------ --- 186.1/203.0 MB 4.0 MB/s eta 0:00:05\n",
      "   ------------------------------------ --- 186.9/203.0 MB 4.0 MB/s eta 0:00:05\n",
      "   ------------------------------------- -- 188.0/203.0 MB 4.0 MB/s eta 0:00:04\n",
      "   ------------------------------------- -- 189.0/203.0 MB 4.0 MB/s eta 0:00:04\n",
      "   ------------------------------------- -- 190.1/203.0 MB 4.0 MB/s eta 0:00:04\n",
      "   ------------------------------------- -- 190.6/203.0 MB 4.0 MB/s eta 0:00:04\n",
      "   ------------------------------------- -- 191.6/203.0 MB 4.0 MB/s eta 0:00:03\n",
      "   ------------------------------------- -- 192.7/203.0 MB 4.0 MB/s eta 0:00:03\n",
      "   -------------------------------------- - 193.7/203.0 MB 4.1 MB/s eta 0:00:03\n",
      "   -------------------------------------- - 195.3/203.0 MB 4.1 MB/s eta 0:00:02\n",
      "   -------------------------------------- - 196.6/203.0 MB 4.1 MB/s eta 0:00:02\n",
      "   -------------------------------------- - 197.9/203.0 MB 4.1 MB/s eta 0:00:02\n",
      "   ---------------------------------------  199.0/203.0 MB 4.1 MB/s eta 0:00:01\n",
      "   ---------------------------------------  200.3/203.0 MB 4.1 MB/s eta 0:00:01\n",
      "   ---------------------------------------  201.1/203.0 MB 4.1 MB/s eta 0:00:01\n",
      "   ---------------------------------------  201.9/203.0 MB 4.1 MB/s eta 0:00:01\n",
      "   ---------------------------------------  202.9/203.0 MB 4.1 MB/s eta 0:00:01\n",
      "   ---------------------------------------  202.9/203.0 MB 4.1 MB/s eta 0:00:01\n",
      "   ---------------------------------------  202.9/203.0 MB 4.1 MB/s eta 0:00:01\n",
      "   ---------------------------------------  202.9/203.0 MB 4.1 MB/s eta 0:00:01\n",
      "   ---------------------------------------- 203.0/203.0 MB 4.0 MB/s eta 0:00:00\n",
      "Using cached sympy-1.13.1-py3-none-any.whl (6.2 MB)\n",
      "Downloading torchvision-0.20.1-cp312-cp312-win_amd64.whl (1.6 MB)\n",
      "   ---------------------------------------- 0.0/1.6 MB ? eta -:--:--\n",
      "   -------------------- ------------------- 0.8/1.6 MB 4.2 MB/s eta 0:00:01\n",
      "   ---------------------------------------- 1.6/1.6 MB 3.8 MB/s eta 0:00:00\n",
      "Downloading ultralytics_thop-2.0.14-py3-none-any.whl (26 kB)\n",
      "Installing collected packages: sympy, opencv-python, torch, ultralytics-thop, torchvision, ultralytics\n",
      "  Attempting uninstall: sympy\n",
      "    Found existing installation: sympy 1.13.2\n",
      "    Uninstalling sympy-1.13.2:\n",
      "      Successfully uninstalled sympy-1.13.2\n",
      "Successfully installed opencv-python-4.11.0.86 sympy-1.13.1 torch-2.5.1 torchvision-0.20.1 ultralytics-8.3.62 ultralytics-thop-2.0.14\n"
     ]
    }
   ],
   "source": [
    "!pip install ultralytics"
   ]
  },
  {
   "cell_type": "code",
   "execution_count": null,
   "id": "24aa1c3d-b0c8-494d-a694-960b3ebf3625",
   "metadata": {},
   "outputs": [
    {
     "name": "stdout",
     "output_type": "stream",
     "text": [
      "Creating new Ultralytics Settings v0.0.6 file  \n",
      "View Ultralytics Settings with 'yolo settings' or at 'C:\\Users\\ap071\\AppData\\Roaming\\Ultralytics\\settings.json'\n",
      "Update Settings with 'yolo settings key=value', i.e. 'yolo settings runs_dir=path/to/dir'. For help see https://docs.ultralytics.com/quickstart/#ultralytics-settings.\n"
     ]
    }
   ],
   "source": [
    "import ultralytics"
   ]
  },
  {
   "cell_type": "code",
   "execution_count": 11,
   "id": "19a2c1b1-cc48-445f-afe2-4c4ac54c28df",
   "metadata": {},
   "outputs": [],
   "source": [
    "from ultralytics import YOLO"
   ]
  },
  {
   "cell_type": "code",
   "execution_count": 13,
   "id": "5fb8886f-db3b-4944-bc95-79e9a0ee8f51",
   "metadata": {},
   "outputs": [
    {
     "name": "stdout",
     "output_type": "stream",
     "text": [
      "Downloading https://github.com/ultralytics/assets/releases/download/v8.3.0/yolo11n-cls.pt to 'yolo11n-cls.pt'...\n"
     ]
    },
    {
     "name": "stderr",
     "output_type": "stream",
     "text": [
      "100%|█████████████████████████████████████████████████████████████████████████████████████████████████████████████████| 5.52M/5.52M [00:01<00:00, 3.83MB/s]\n"
     ]
    }
   ],
   "source": [
    "model = YOLO(\"yolo11n-cls.pt\")"
   ]
  },
  {
   "cell_type": "code",
   "execution_count": null,
   "id": "b95aafca-fb91-4dbe-b87e-f7a0e0579b68",
   "metadata": {},
   "outputs": [
    {
     "name": "stdout",
     "output_type": "stream",
     "text": [
      "Ultralytics 8.3.62  Python-3.12.7 torch-2.5.1+cpu CPU (11th Gen Intel Core(TM) i5-1135G7 2.40GHz)\n",
      "\u001b[34m\u001b[1mengine\\trainer: \u001b[0mtask=classify, mode=train, model=yolo11n-cls.pt, data=C:/Users/ap071/Desktop/Fraud detection Project/Claasification model/dataset/, epochs=12, time=None, patience=100, batch=8, imgsz=640, save=True, save_period=-1, cache=False, device=None, workers=8, project=None, name=train4, exist_ok=False, pretrained=True, optimizer=auto, verbose=True, seed=0, deterministic=True, single_cls=False, rect=False, cos_lr=False, close_mosaic=10, resume=False, amp=True, fraction=1.0, profile=False, freeze=None, multi_scale=False, overlap_mask=True, mask_ratio=4, dropout=0.0, val=True, split=val, save_json=False, save_hybrid=False, conf=None, iou=0.7, max_det=300, half=False, dnn=False, plots=True, source=None, vid_stride=1, stream_buffer=False, visualize=False, augment=False, agnostic_nms=False, classes=None, retina_masks=False, embed=None, show=False, save_frames=False, save_txt=False, save_conf=False, save_crop=False, show_labels=True, show_conf=True, show_boxes=True, line_width=None, format=torchscript, keras=False, optimize=False, int8=False, dynamic=False, simplify=True, opset=None, workspace=None, nms=False, lr0=0.01, lrf=0.01, momentum=0.937, weight_decay=0.0005, warmup_epochs=3.0, warmup_momentum=0.8, warmup_bias_lr=0.1, box=7.5, cls=0.5, dfl=1.5, pose=12.0, kobj=1.0, nbs=64, hsv_h=0.015, hsv_s=0.7, hsv_v=0.4, degrees=0.0, translate=0.1, scale=0.5, shear=0.0, perspective=0.0, flipud=0.0, fliplr=0.5, bgr=0.0, mosaic=1.0, mixup=0.0, copy_paste=0.0, copy_paste_mode=flip, auto_augment=randaugment, erasing=0.4, crop_fraction=1.0, cfg=None, tracker=botsort.yaml, save_dir=runs\\classify\\train4\n",
      "\u001b[34m\u001b[1mtrain:\u001b[0m C:\\Users\\ap071\\Desktop\\Fraud detection Project\\Claasification model\\dataset\\train... found 695 images in 3 classes: ERROR  requires 2 classes, not 3\n",
      "\u001b[34m\u001b[1mval:\u001b[0m C:\\Users\\ap071\\Desktop\\Fraud detection Project\\Claasification model\\dataset\\val... found 192 images in 2 classes  \n",
      "\u001b[34m\u001b[1mtest:\u001b[0m None...\n",
      "Overriding model.yaml nc=80 with nc=2\n",
      "\n",
      "                   from  n    params  module                                       arguments                     \n",
      "  0                  -1  1       464  ultralytics.nn.modules.conv.Conv             [3, 16, 3, 2]                 \n",
      "  1                  -1  1      4672  ultralytics.nn.modules.conv.Conv             [16, 32, 3, 2]                \n",
      "  2                  -1  1      6640  ultralytics.nn.modules.block.C3k2            [32, 64, 1, False, 0.25]      \n",
      "  3                  -1  1     36992  ultralytics.nn.modules.conv.Conv             [64, 64, 3, 2]                \n",
      "  4                  -1  1     26080  ultralytics.nn.modules.block.C3k2            [64, 128, 1, False, 0.25]     \n",
      "  5                  -1  1    147712  ultralytics.nn.modules.conv.Conv             [128, 128, 3, 2]              \n",
      "  6                  -1  1     87040  ultralytics.nn.modules.block.C3k2            [128, 128, 1, True]           \n",
      "  7                  -1  1    295424  ultralytics.nn.modules.conv.Conv             [128, 256, 3, 2]              \n",
      "  8                  -1  1    346112  ultralytics.nn.modules.block.C3k2            [256, 256, 1, True]           \n",
      "  9                  -1  1    249728  ultralytics.nn.modules.block.C2PSA           [256, 256, 1]                 \n",
      " 10                  -1  1    332802  ultralytics.nn.modules.head.Classify         [256, 2]                      \n",
      "YOLO11n-cls summary: 151 layers, 1,533,666 parameters, 1,533,666 gradients, 3.3 GFLOPs\n",
      "Transferred 234/236 items from pretrained weights\n"
     ]
    },
    {
     "name": "stderr",
     "output_type": "stream",
     "text": [
      "\u001b[34m\u001b[1mtrain: \u001b[0mScanning C:\\Users\\ap071\\Desktop\\Fraud detection Project\\Claasification model\\dataset\\train... 695 images, 0 corrupt: 100%|██████████| 695/695 [00:01\u001b[0m"
     ]
    },
    {
     "name": "stdout",
     "output_type": "stream",
     "text": [
      "\u001b[34m\u001b[1mtrain: \u001b[0mNew cache created: C:\\Users\\ap071\\Desktop\\Fraud detection Project\\Claasification model\\dataset\\train.cache\n"
     ]
    },
    {
     "name": "stderr",
     "output_type": "stream",
     "text": [
      "\n",
      "\u001b[34m\u001b[1mval: \u001b[0mScanning C:\\Users\\ap071\\Desktop\\Fraud detection Project\\Claasification model\\dataset\\val... 192 images, 0 corrupt: 100%|██████████| 192/192 [00:00<00:\u001b[0m"
     ]
    },
    {
     "name": "stdout",
     "output_type": "stream",
     "text": [
      "\u001b[34m\u001b[1mval: \u001b[0mNew cache created: C:\\Users\\ap071\\Desktop\\Fraud detection Project\\Claasification model\\dataset\\val.cache\n"
     ]
    },
    {
     "name": "stderr",
     "output_type": "stream",
     "text": [
      "\n"
     ]
    },
    {
     "name": "stdout",
     "output_type": "stream",
     "text": [
      "\u001b[34m\u001b[1moptimizer:\u001b[0m 'optimizer=auto' found, ignoring 'lr0=0.01' and 'momentum=0.937' and determining best 'optimizer', 'lr0' and 'momentum' automatically... \n",
      "\u001b[34m\u001b[1moptimizer:\u001b[0m AdamW(lr=0.000714, momentum=0.9) with parameter groups 39 weight(decay=0.0), 40 weight(decay=0.0005), 40 bias(decay=0.0)\n",
      "Image sizes 640 train, 640 val\n",
      "Using 0 dataloader workers\n",
      "Logging results to \u001b[1mruns\\classify\\train4\u001b[0m\n",
      "Starting training for 12 epochs...\n",
      "\n",
      "      Epoch    GPU_mem       loss  Instances       Size\n"
     ]
    },
    {
     "name": "stderr",
     "output_type": "stream",
     "text": [
      "       1/12         0G     0.9094          8        640:   1%|          | 1/87 [00:03<04:29,  3.13s/it]"
     ]
    },
    {
     "name": "stdout",
     "output_type": "stream",
     "text": [
      "Downloading https://ultralytics.com/assets/Arial.ttf to 'C:\\Users\\ap071\\AppData\\Roaming\\Ultralytics\\Arial.ttf'...\n"
     ]
    },
    {
     "name": "stderr",
     "output_type": "stream",
     "text": [
      "       1/12         0G     0.8144          8        640:   2%|▏         | 2/87 [00:05<03:53,  2.75s/it]\n",
      "  0%|                                                                                                                           | 0.00/755k [00:00<?, ?B/s]\u001b[A\n",
      " 17%|███████████████████▋                                                                                                | 128k/755k [00:00<00:00, 776kB/s]\u001b[A\n",
      "100%|███████████████████████████████████████████████████████████████████████████████████████████████████████████████████| 755k/755k [00:00<00:00, 2.14MB/s]\u001b[A\n",
      "       1/12         0G     0.4916          7        640: 100%|██████████| 87/87 [03:00<00:00,  2.08s/it]\n",
      "               classes   top1_acc   top5_acc: 100%|██████████| 12/12 [00:23<00:00,  1.96s/it]"
     ]
    },
    {
     "name": "stdout",
     "output_type": "stream",
     "text": [
      "                   all      0.891          1\n"
     ]
    },
    {
     "name": "stderr",
     "output_type": "stream",
     "text": [
      "\n"
     ]
    },
    {
     "name": "stdout",
     "output_type": "stream",
     "text": [
      "\n",
      "      Epoch    GPU_mem       loss  Instances       Size\n"
     ]
    },
    {
     "name": "stderr",
     "output_type": "stream",
     "text": [
      "       2/12         0G     0.2237          7        640: 100%|██████████| 87/87 [02:55<00:00,  2.02s/it]\n",
      "               classes   top1_acc   top5_acc: 100%|██████████| 12/12 [00:22<00:00,  1.89s/it]"
     ]
    },
    {
     "name": "stdout",
     "output_type": "stream",
     "text": [
      "                   all      0.948          1\n"
     ]
    },
    {
     "name": "stderr",
     "output_type": "stream",
     "text": [
      "\n"
     ]
    },
    {
     "name": "stdout",
     "output_type": "stream",
     "text": [
      "\n",
      "      Epoch    GPU_mem       loss  Instances       Size\n"
     ]
    },
    {
     "name": "stderr",
     "output_type": "stream",
     "text": [
      "       3/12         0G     0.1802          7        640: 100%|██████████| 87/87 [06:07<00:00,  4.22s/it]  \n",
      "               classes   top1_acc   top5_acc: 100%|██████████| 12/12 [00:24<00:00,  2.05s/it]"
     ]
    },
    {
     "name": "stdout",
     "output_type": "stream",
     "text": [
      "                   all      0.927          1\n"
     ]
    },
    {
     "name": "stderr",
     "output_type": "stream",
     "text": [
      "\n"
     ]
    },
    {
     "name": "stdout",
     "output_type": "stream",
     "text": [
      "\n",
      "      Epoch    GPU_mem       loss  Instances       Size\n"
     ]
    },
    {
     "name": "stderr",
     "output_type": "stream",
     "text": [
      "       4/12         0G     0.1532          7        640: 100%|██████████| 87/87 [40:38<00:00, 28.03s/it]    \n",
      "               classes   top1_acc   top5_acc: 100%|██████████| 12/12 [01:01<00:00,  5.12s/it]"
     ]
    },
    {
     "name": "stdout",
     "output_type": "stream",
     "text": [
      "                   all      0.984          1\n"
     ]
    },
    {
     "name": "stderr",
     "output_type": "stream",
     "text": [
      "\n"
     ]
    },
    {
     "name": "stdout",
     "output_type": "stream",
     "text": [
      "\n",
      "      Epoch    GPU_mem       loss  Instances       Size\n"
     ]
    },
    {
     "name": "stderr",
     "output_type": "stream",
     "text": [
      "       5/12         0G     0.0968          7        640: 100%|██████████| 87/87 [03:20<00:00,  2.30s/it]\n",
      "               classes   top1_acc   top5_acc: 100%|██████████| 12/12 [00:20<00:00,  1.71s/it]"
     ]
    },
    {
     "name": "stdout",
     "output_type": "stream",
     "text": [
      "                   all      0.979          1\n"
     ]
    },
    {
     "name": "stderr",
     "output_type": "stream",
     "text": [
      "\n"
     ]
    },
    {
     "name": "stdout",
     "output_type": "stream",
     "text": [
      "\n",
      "      Epoch    GPU_mem       loss  Instances       Size\n"
     ]
    },
    {
     "name": "stderr",
     "output_type": "stream",
     "text": [
      "       6/12         0G     0.1122          7        640: 100%|██████████| 87/87 [02:42<00:00,  1.87s/it]\n",
      "               classes   top1_acc   top5_acc: 100%|██████████| 12/12 [00:20<00:00,  1.69s/it]"
     ]
    },
    {
     "name": "stdout",
     "output_type": "stream",
     "text": [
      "                   all      0.979          1\n"
     ]
    },
    {
     "name": "stderr",
     "output_type": "stream",
     "text": [
      "\n"
     ]
    },
    {
     "name": "stdout",
     "output_type": "stream",
     "text": [
      "\n",
      "      Epoch    GPU_mem       loss  Instances       Size\n"
     ]
    },
    {
     "name": "stderr",
     "output_type": "stream",
     "text": [
      "       7/12         0G     0.1128          7        640: 100%|██████████| 87/87 [02:55<00:00,  2.02s/it]\n",
      "               classes   top1_acc   top5_acc: 100%|██████████| 12/12 [00:20<00:00,  1.71s/it]"
     ]
    },
    {
     "name": "stdout",
     "output_type": "stream",
     "text": [
      "                   all       0.99          1\n"
     ]
    },
    {
     "name": "stderr",
     "output_type": "stream",
     "text": [
      "\n"
     ]
    },
    {
     "name": "stdout",
     "output_type": "stream",
     "text": [
      "\n",
      "      Epoch    GPU_mem       loss  Instances       Size\n"
     ]
    },
    {
     "name": "stderr",
     "output_type": "stream",
     "text": [
      "       8/12         0G    0.06658          7        640: 100%|██████████| 87/87 [02:57<00:00,  2.04s/it]\n",
      "               classes   top1_acc   top5_acc: 100%|██████████| 12/12 [00:20<00:00,  1.73s/it]"
     ]
    },
    {
     "name": "stdout",
     "output_type": "stream",
     "text": [
      "                   all       0.99          1\n"
     ]
    },
    {
     "name": "stderr",
     "output_type": "stream",
     "text": [
      "\n"
     ]
    },
    {
     "name": "stdout",
     "output_type": "stream",
     "text": [
      "\n",
      "      Epoch    GPU_mem       loss  Instances       Size\n"
     ]
    },
    {
     "name": "stderr",
     "output_type": "stream",
     "text": [
      "       9/12         0G    0.07278          7        640: 100%|██████████| 87/87 [03:26<00:00,  2.37s/it]\n",
      "               classes   top1_acc   top5_acc: 100%|██████████| 12/12 [00:25<00:00,  2.14s/it]"
     ]
    },
    {
     "name": "stdout",
     "output_type": "stream",
     "text": [
      "                   all       0.99          1\n"
     ]
    },
    {
     "name": "stderr",
     "output_type": "stream",
     "text": [
      "\n"
     ]
    },
    {
     "name": "stdout",
     "output_type": "stream",
     "text": [
      "\n",
      "      Epoch    GPU_mem       loss  Instances       Size\n"
     ]
    },
    {
     "name": "stderr",
     "output_type": "stream",
     "text": [
      "      10/12         0G    0.05179          7        640: 100%|██████████| 87/87 [02:56<00:00,  2.03s/it]\n",
      "               classes   top1_acc   top5_acc: 100%|██████████| 12/12 [00:20<00:00,  1.72s/it]"
     ]
    },
    {
     "name": "stdout",
     "output_type": "stream",
     "text": [
      "                   all      0.984          1\n"
     ]
    },
    {
     "name": "stderr",
     "output_type": "stream",
     "text": [
      "\n"
     ]
    },
    {
     "name": "stdout",
     "output_type": "stream",
     "text": [
      "\n",
      "      Epoch    GPU_mem       loss  Instances       Size\n"
     ]
    },
    {
     "name": "stderr",
     "output_type": "stream",
     "text": [
      "      11/12         0G    0.04621          7        640: 100%|██████████| 87/87 [03:02<00:00,  2.10s/it]\n",
      "               classes   top1_acc   top5_acc: 100%|██████████| 12/12 [00:27<00:00,  2.32s/it]"
     ]
    },
    {
     "name": "stdout",
     "output_type": "stream",
     "text": [
      "                   all      0.984          1\n"
     ]
    },
    {
     "name": "stderr",
     "output_type": "stream",
     "text": [
      "\n"
     ]
    },
    {
     "name": "stdout",
     "output_type": "stream",
     "text": [
      "\n",
      "      Epoch    GPU_mem       loss  Instances       Size\n"
     ]
    },
    {
     "name": "stderr",
     "output_type": "stream",
     "text": [
      "      12/12         0G    0.05055          7        640: 100%|██████████| 87/87 [05:59<00:00,  4.13s/it]\n",
      "               classes   top1_acc   top5_acc: 100%|██████████| 12/12 [00:53<00:00,  4.44s/it]"
     ]
    },
    {
     "name": "stdout",
     "output_type": "stream",
     "text": [
      "                   all      0.984          1\n"
     ]
    },
    {
     "name": "stderr",
     "output_type": "stream",
     "text": [
      "\n"
     ]
    },
    {
     "name": "stdout",
     "output_type": "stream",
     "text": [
      "\n",
      "12 epochs completed in 1.431 hours.\n",
      "Optimizer stripped from runs\\classify\\train4\\weights\\last.pt, 3.2MB\n",
      "Optimizer stripped from runs\\classify\\train4\\weights\\best.pt, 3.2MB\n",
      "\n",
      "Validating runs\\classify\\train4\\weights\\best.pt...\n",
      "Ultralytics 8.3.62  Python-3.12.7 torch-2.5.1+cpu CPU (11th Gen Intel Core(TM) i5-1135G7 2.40GHz)\n",
      "YOLO11n-cls summary (fused): 112 layers, 1,528,586 parameters, 0 gradients, 3.2 GFLOPs\n",
      "\u001b[34m\u001b[1mtrain:\u001b[0m C:\\Users\\ap071\\Desktop\\Fraud detection Project\\Claasification model\\dataset\\train... found 695 images in 3 classes: ERROR  requires 2 classes, not 3\n",
      "\u001b[34m\u001b[1mval:\u001b[0m C:\\Users\\ap071\\Desktop\\Fraud detection Project\\Claasification model\\dataset\\val... found 192 images in 2 classes  \n",
      "\u001b[34m\u001b[1mtest:\u001b[0m None...\n"
     ]
    },
    {
     "name": "stderr",
     "output_type": "stream",
     "text": [
      "               classes   top1_acc   top5_acc: 100%|██████████| 12/12 [00:18<00:00,  1.54s/it]\n"
     ]
    }
   ],
   "source": [
    "results = model.train(data=\"C:/Users/ap071/Desktop/Fraud detection Project/Claasification model/dataset/\", epochs=12, imgsz=640, batch=8)\n"
   ]
  },
  {
   "cell_type": "code",
   "execution_count": 12,
   "id": "7d3d33e7-a97d-4257-b9a9-05ed7547425c",
   "metadata": {},
   "outputs": [],
   "source": [
    "from ultralytics import YOLO"
   ]
  },
  {
   "cell_type": "code",
   "execution_count": 20,
   "id": "13dfd69f-a0c1-45d9-880a-bc24d3cc1c54",
   "metadata": {},
   "outputs": [],
   "source": [
    "model = YOLO(\"runs/classify/train4/weights/best.pt\")"
   ]
  },
  {
   "cell_type": "code",
   "execution_count": 46,
   "id": "9cd727d5-7af6-4d78-90ca-e1db0da4201f",
   "metadata": {},
   "outputs": [
    {
     "ename": "SyntaxError",
     "evalue": "invalid non-printable character U+00A0 (103404858.py, line 6)",
     "output_type": "error",
     "traceback": [
      "\u001b[1;36m  Cell \u001b[1;32mIn[46], line 6\u001b[1;36m\u001b[0m\n\u001b[1;33m    print(\"Error\")\u001b[0m\n\u001b[1;37m    ^\u001b[0m\n\u001b[1;31mSyntaxError\u001b[0m\u001b[1;31m:\u001b[0m invalid non-printable character U+00A0\n"
     ]
    }
   ],
   "source": [
    "results = model.predict(source=\"C:/Users/ap071/Desktop/Fraud detection Project/Claasification model/dataset/train/non_aadhar/2.jpg\")\n",
    "\n",
    "if results:\n",
    "    results[0].show()\n",
    "else:\n",
    "    print(\"Error\")"
   ]
  },
  {
   "cell_type": "code",
   "execution_count": null,
   "id": "653b4543-1d65-45de-ac60-79028e388529",
   "metadata": {},
   "outputs": [],
   "source": []
  }
 ],
 "metadata": {
  "kernelspec": {
   "display_name": "Python [conda env:base] *",
   "language": "python",
   "name": "conda-base-py"
  },
  "language_info": {
   "codemirror_mode": {
    "name": "ipython",
    "version": 3
   },
   "file_extension": ".py",
   "mimetype": "text/x-python",
   "name": "python",
   "nbconvert_exporter": "python",
   "pygments_lexer": "ipython3",
   "version": "3.12.7"
  }
 },
 "nbformat": 4,
 "nbformat_minor": 5
}
